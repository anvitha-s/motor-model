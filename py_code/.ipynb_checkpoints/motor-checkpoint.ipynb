{
 "cells": [
  {
   "cell_type": "markdown",
   "metadata": {},
   "source": [
    "# Observing trajectory of motor(currently with max. constant velocity)"
   ]
  },
  {
   "cell_type": "code",
   "execution_count": 19,
   "metadata": {},
   "outputs": [],
   "source": [
    "import numpy as np\n",
    "import matplotlib.pyplot as plt\n",
    "\n",
    "import potential\n",
    "import motor"
   ]
  },
  {
   "attachments": {
    "Screenshot%20from%202017-12-22%2016:58:37.png": {
     "image/png": "[encoded data removed]"
    }
   },
   "cell_type": "markdown",
   "metadata": {},
   "source": [
    "initialising V_amp(amplitude of sawtooth potential), L(wavelength), p_d(phase difference between 2 potential fields), a(as shown below)![Screenshot%20from%202017-12-22%2016:58:37.png](attachment:Screenshot%20from%202017-12-22%2016:58:37.png)"
   ]
  },
  {
   "cell_type": "code",
   "execution_count": 20,
   "metadata": {},
   "outputs": [],
   "source": [
    "V_amp = 600\n",
    "a = 0.3\n",
    "L = 100\n",
    "p_d = 40\n",
    "w12 = 0.2 \n",
    "w21 = 0.4"
   ]
  },
  {
   "cell_type": "markdown",
   "metadata": {},
   "source": [
    "Initialising 2 instances of potential class, between which motor(m1) operates"
   ]
  },
  {
   "cell_type": "code",
   "execution_count": 21,
   "metadata": {},
   "outputs": [],
   "source": [
    "p1 = potential.Potential(V_amp,a,L,0)\n",
    "p2 = potential.Potential(V_amp,a,L,p_d)\n",
    "m1 = motor.Motor(500,p1,p2,1,0.3,1)\n",
    "#m2 = motor.Motor(450,p1,p2,1,0.3)\n",
    "\n",
    "for i in range(999):\n",
    "      m1.increment_x(1)  "
   ]
  },
  {
   "cell_type": "markdown",
   "metadata": {},
   "source": [
    "Calling overloaded method of motor class for dirac transition probabilities(here peak = 1)."
   ]
  },
  {
   "cell_type": "markdown",
   "metadata": {},
   "source": [
    "Plotting trajectory, coloured according to potential state occupied(red - 1, blue - 2)"
   ]
  },
  {
   "cell_type": "code",
   "execution_count": 22,
   "metadata": {},
   "outputs": [],
   "source": [
    "m1.plotpos_state()\n",
    "#m2.plotpos_cycle()\n",
    "p1.plotpot('r')\n",
    "p2.plotpot('b')\n",
    "plt.show()"
   ]
  }
 ],
 "metadata": {
  "kernelspec": {
   "display_name": "Python 2",
   "language": "python",
   "name": "python2"
  },
  "language_info": {
   "codemirror_mode": {
    "name": "ipython",
    "version": 2
   },
   "file_extension": ".py",
   "mimetype": "text/x-python",
   "name": "python",
   "nbconvert_exporter": "python",
   "pygments_lexer": "ipython2",
   "version": "2.7.6"
  }
 },
 "nbformat": 4,
 "nbformat_minor": 2
}
