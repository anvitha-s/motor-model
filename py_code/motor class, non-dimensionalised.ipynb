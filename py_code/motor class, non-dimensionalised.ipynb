{
 "cells": [
  {
   "cell_type": "code",
   "execution_count": 24,
   "metadata": {},
   "outputs": [],
   "source": [
    "import numpy as np\n",
    "import matplotlib.pyplot as plt"
   ]
  },
  {
   "cell_type": "code",
   "execution_count": 25,
   "metadata": {},
   "outputs": [],
   "source": [
    "class Motor:\n",
    "    def __init__(self,x_init,potential1,potential2,init_state,w12,w21):\n",
    "        self.x = []\n",
    "        self.x.append(float(x_init))\n",
    "        self.pot = [potential1,potential2]\n",
    "        self.state = [init_state]\n",
    "        self.w = [w12,w21]\n"
   ]
  },
  {
   "cell_type": "markdown",
   "metadata": {},
   "source": [
    "$$\\Delta x = -u_0\\frac{\\partial U}{\\partial x}\\Delta t + f_{ext}\\Delta t + \\sqrt{2\\Delta t}$$"
   ]
  },
  {
   "cell_type": "code",
   "execution_count": 26,
   "metadata": {},
   "outputs": [],
   "source": [
    "    def step_incr(self,x,F_ext,dt,u_0):\n",
    "        s=np.random.normal(0,1)\n",
    "        x_p = x + ((2*dt)**(0.5))*s*(self.state[-1]-1)\n",
    "        x_p = x_p + u_0*self.pot[self.state[-1]-1].incr(x)*dt + F_ext*dt\n",
    "        return x_p\n",
    "    "
   ]
  },
  {
   "cell_type": "markdown",
   "metadata": {},
   "source": [
    "Calculates the change in x coordinate of motor. \n",
    "x' = step_incr(current x coordinate)  x'' = step_incr(x')\n",
    "$$ new\\ x\\ coordinate = \\frac{x' + x''}{2}$$"
   ]
  },
  {
   "cell_type": "code",
   "execution_count": 27,
   "metadata": {},
   "outputs": [],
   "source": [
    "    def increment_x(self,F_ext,dt,u_0):\n",
    "        force_ext = F_ext\n",
    "        self.dt = dt\n",
    "        s = np.random.uniform(0,1)\n",
    "        #print 'size : '\n",
    "        #print int(np.floor(self.x[-1])*100)\n",
    "        if self.w[self.state[-1]-1].shift(self.x[-1]):\n",
    "            self.state.append(self.state[-1]%2 + 1)\n",
    "        else:\n",
    "            self.state.append(self.state[-1])\n",
    "        x_p = self.step_incr(self.x[-1],force_ext,dt,u_0)\n",
    "        x_pp = self.step_incr(x_p,force_ext,dt,u_0)\n",
    "        self.x.append(float((x_p + x_pp)/2))\n"
   ]
  },
  {
   "cell_type": "markdown",
   "metadata": {},
   "source": [
    "Calculating average velocity. \n",
    "$$v = \\frac{\\int\\Delta x}{\\int \\Delta t} = \\frac{x_{final} - x_0}{k\\Delta t}$$\n",
    "k - number of steps"
   ]
  },
  {
   "cell_type": "code",
   "execution_count": 28,
   "metadata": {},
   "outputs": [],
   "source": [
    "    def velocity(self):\n",
    "       self.avg_velocity = float((self.x[-1] - self.x[0])/(self.dt*len(self.x)))\n",
    "       return self.avg_velocity\n"
   ]
  },
  {
   "cell_type": "markdown",
   "metadata": {},
   "source": [
    "Plotting position with and without state specification"
   ]
  },
  {
   "cell_type": "code",
   "execution_count": 29,
   "metadata": {},
   "outputs": [],
   "source": [
    "    def plotposition(self):\n",
    "        x_plot = np.linspace(0, 10, num=1000)\n",
    "        plt.plot(self.x,x_plot)\n",
    "    def plotpos_state(self):\n",
    "        color = ['r','b']\n",
    "        for i in range(len(self.x) - 2):\n",
    "            plt.plot([self.x[i],self.x[i+1]],[i*self.dt,(i+1)*self.dt],color[self.state[i]-1])\n",
    "            plt.plot(self.x[i],i*self.dt,color[self.state[i]-1] + '.')"
   ]
  },
  {
   "cell_type": "markdown",
   "metadata": {},
   "source": [
    "Checking and updating position of 2 motors, if subject to collision.\n",
    "$$\\Delta x = \\frac{cI}{r^6} \\frac{\\Delta t^2}{2}$$"
   ]
  },
  {
   "cell_type": "code",
   "execution_count": 30,
   "metadata": {},
   "outputs": [],
   "source": [
    "def checkcollision(m1,m2):\n",
    "    d = m1.x[-1] - m2.x[-1]\n",
    "    if(abs(d) < r):\n",
    "        m1.x[-1]  = m1.x[-1] + np.sign(d)*c_I/(r**6)\n",
    "        m1.x[-1]  = m1.x[-1] + np.sign(d)*c_I/(r**6)"
   ]
  }
 ],
 "metadata": {
  "kernelspec": {
   "display_name": "Python 2",
   "language": "python",
   "name": "python2"
  },
  "language_info": {
   "codemirror_mode": {
    "name": "ipython",
    "version": 2
   },
   "file_extension": ".py",
   "mimetype": "text/x-python",
   "name": "python",
   "nbconvert_exporter": "python",
   "pygments_lexer": "ipython2",
   "version": "2.7.6"
  }
 },
 "nbformat": 4,
 "nbformat_minor": 2
}
